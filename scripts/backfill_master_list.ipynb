{
 "cells": [
  {
   "cell_type": "code",
   "execution_count": null,
   "metadata": {},
   "outputs": [],
   "source": [
    "import gspread\n",
    "import pandas as pd\n",
    "from datetime import datetime"
   ]
  },
  {
   "cell_type": "code",
   "execution_count": null,
   "metadata": {},
   "outputs": [],
   "source": [
    "sa = gspread.service_account(filename=\"../credentials/jp-macdonnel-b7aa48547774.json\")\n",
    "sh = sa.open(\"green-lights\")\n",
    "\n",
    "master = sh.worksheet('master')\n",
    "df_master = pd.DataFrame(master.get_all_records())\n",
    "\n",
    "uone_export = open(\"../uone-exports/20230725.csv\")\n",
    "df_uone = pd.read_csv(uone_export)"
   ]
  },
  {
   "cell_type": "code",
   "execution_count": null,
   "metadata": {},
   "outputs": [],
   "source": [
    "master_list = []\n",
    "\n",
    "now = datetime.now().strftime(\"%B %d, %Y ~ %H:%M:%S\")\n",
    "\n",
    "for (\n",
    "    i,\n",
    "    customer_name,\n",
    "    first_name,\n",
    "    last_name,\n",
    "    job_title,\n",
    "    work_phone,\n",
    "    email,\n",
    "    address,\n",
    "    city,\n",
    "    state,\n",
    "    zip,\n",
    "    status,\n",
    "    updated,\n",
    "    protected_until,\n",
    "    gl,\n",
    "    gl_updated_at,\n",
    "    gl_backfilled_at,\n",
    "    lead_id,\n",
    "    sales_stage,\n",
    ") in df_master.itertuples():\n",
    "    print(f\"{i+1}. {customer_name}\")\n",
    "    if not gl:\n",
    "        hit = df_uone.loc[df_uone[\"Customer Name\"] == customer_name]\n",
    "\n",
    "        if len(hit):\n",
    "            ups_status = hit[\"UPS Status\"].iloc[0]\n",
    "            if type(ups_status) != float:\n",
    "                master_list.append(\n",
    "                    [\n",
    "                        ups_status,\n",
    "                        hit[\"Updated\"].iloc[0],\n",
    "                        now,\n",
    "                        hit[\"Lead UONE Number\"].iloc[0],\n",
    "                        hit[\"Sales Stage\"].iloc[0],\n",
    "                    ]\n",
    "                )\n",
    "            else:\n",
    "                master_list.append(\n",
    "                    [\n",
    "                        \"\",\n",
    "                        \"\",\n",
    "                        now,\n",
    "                        hit[\"Lead UONE Number\"].iloc[0],\n",
    "                        hit[\"Sales Stage\"].iloc[0],\n",
    "                    ]\n",
    "                )\n",
    "\n",
    "        else:\n",
    "            master_list.append(\n",
    "                [\n",
    "                    \"\",\n",
    "                    \"\",\n",
    "                    now,\n",
    "                    \"\",\n",
    "                    \"\",\n",
    "                ]\n",
    "            )\n",
    "    else:\n",
    "        master_list.append(\n",
    "            [\n",
    "                gl,\n",
    "                gl_updated_at,\n",
    "                gl_backfilled_at,\n",
    "                lead_id,\n",
    "                sales_stage,\n",
    "            ]\n",
    "        )\n"
   ]
  },
  {
   "cell_type": "code",
   "execution_count": null,
   "metadata": {},
   "outputs": [],
   "source": [
    "display(master_list[-5:])"
   ]
  },
  {
   "cell_type": "code",
   "execution_count": null,
   "metadata": {},
   "outputs": [],
   "source": [
    "master.update(f\"N2:R{len(df_master) + 1}\", master_list)"
   ]
  },
  {
   "cell_type": "code",
   "execution_count": null,
   "metadata": {},
   "outputs": [],
   "source": []
  }
 ],
 "metadata": {
  "kernelspec": {
   "display_name": "Python 3",
   "language": "python",
   "name": "python3"
  },
  "language_info": {
   "codemirror_mode": {
    "name": "ipython",
    "version": 3
   },
   "file_extension": ".py",
   "mimetype": "text/x-python",
   "name": "python",
   "nbconvert_exporter": "python",
   "pygments_lexer": "ipython3",
   "version": "3.9.15"
  },
  "orig_nbformat": 4,
  "vscode": {
   "interpreter": {
    "hash": "a665b5d41d17b532ea9890333293a1b812fa0b73c9c25c950b3cedf1bebd0438"
   }
  }
 },
 "nbformat": 4,
 "nbformat_minor": 2
}
